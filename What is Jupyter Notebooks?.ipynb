{
 "cells": [
  {
   "cell_type": "markdown",
   "metadata": {},
   "source": [
    "# Jupyter Notebooks\n",
    "The purpose of this page is to explain where jupyter notebooks came from and what it is, as well as to provide a few code examples.\n",
    "\n",
    "## Jupyter Notebook is IPython Notebook\n",
    "Jupyter Notebook is the continuation of the IPython Notebook project. IPython It allows for the user to create a document that features a combination of plain text, markdown text, _\"live\"_ code and code output. This text box is an example of markdown text.\n",
    "\n",
    "## Jupyter Helps Data Scientists\n",
    "\n",
    "## Code Examples\n"
   ]
  },
  {
   "cell_type": "code",
   "execution_count": 1,
   "metadata": {},
   "outputs": [
    {
     "name": "stdout",
     "output_type": "stream",
     "text": [
      "hello, world!\n"
     ]
    }
   ],
   "source": [
    "print(\"hello, world!\")"
   ]
  },
  {
   "cell_type": "code",
   "execution_count": null,
   "metadata": {},
   "outputs": [],
   "source": []
  }
 ],
 "metadata": {
  "kernelspec": {
   "display_name": "Python 3",
   "language": "python",
   "name": "python3"
  },
  "language_info": {
   "codemirror_mode": {
    "name": "ipython",
    "version": 3
   },
   "file_extension": ".py",
   "mimetype": "text/x-python",
   "name": "python",
   "nbconvert_exporter": "python",
   "pygments_lexer": "ipython3",
   "version": "3.7.0"
  }
 },
 "nbformat": 4,
 "nbformat_minor": 2
}
