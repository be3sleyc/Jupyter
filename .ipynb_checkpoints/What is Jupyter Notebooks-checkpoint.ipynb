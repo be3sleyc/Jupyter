{
 "cells": [
  {
   "cell_type": "markdown",
   "metadata": {},
   "source": [
    "# Jupyter Notebooks\n",
    "The purpose of this page is to explain where jupyter notebooks came from and what it is, as well as to provide a couple of code examples."
   ]
  },
  {
   "cell_type": "markdown",
   "metadata": {},
   "source": [
    "## Jupyter Notebook is the continuation of IPython Notebook\n",
    "Jupyter Notebook is the continuation of the IPython Notebook project. IPython  was originally created in 2001 by Fernando Perez. It was designed to be a better coding environment than the default interpreter that is provided with python. The default interpreter allows users to enter in code and test ideas without the need to create test files or scripts. The IPython environment adds additional features including: an enhanced python shell, a many clients to one kernel relatioship, and support for parallel computing."
   ]
  },
  {
   "cell_type": "markdown",
   "metadata": {},
   "source": [
    "## Jupyter Helps Data Scientists\n",
    "text"
   ]
  },
  {
   "cell_type": "markdown",
   "metadata": {},
   "source": [
    "## Code Examples\n",
    "\n",
    "### Variable and Print output"
   ]
  },
  {
   "cell_type": "code",
   "execution_count": 1,
   "metadata": {},
   "outputs": [],
   "source": [
    "name = \"Guido\" # Python was created by Guido van Rossum in 1991"
   ]
  },
  {
   "cell_type": "markdown",
   "metadata": {},
   "source": [
    "Feel free to change the name..."
   ]
  },
  {
   "cell_type": "code",
   "execution_count": 2,
   "metadata": {},
   "outputs": [
    {
     "name": "stdout",
     "output_type": "stream",
     "text": [
      "Hello, World!\n",
      "My Name is Guido\n"
     ]
    }
   ],
   "source": [
    "print(\"Hello, World!\\nMy Name is\", name)"
   ]
  },
  {
   "cell_type": "markdown",
   "metadata": {},
   "source": [
    "Notice the `In [ ]:` located next to the code cells. The characters contained with in the square brackets will indicate the run state of the cell. A `*` indicates the code is still running, and a number will indicate the order the cells where run in. Hovering over a code cell causes the run symbol to appear. By clicking this symbol, you can run the cell and a new number will appear indicating the run order. Try it out above!\n",
    "\n",
    "On to some more complex examples\n",
    "\n",
    "---\n",
    "### Finding a Convex Hull (Quick Hull method)\n",
    "\n",
    "The quick hull method uses a divide and conquer approach similar to the merge sort algorithm. This means it will divide the main problem into smaller and smaller subproblems. It will then solve the subproblems and combine or merge the solutions. Before we can begin, we will need to generate some random points on a 2D plane. We can do this with the numpy module and plot the points with pyplot from matplotlib."
   ]
  },
  {
   "cell_type": "code",
   "execution_count": 24,
   "metadata": {},
   "outputs": [
    {
     "data": {
      "image/png": "[encoded data removed]",
      "text/plain": [
       "<Figure size 432x288 with 1 Axes>"
      ]
     },
     "metadata": {
      "needs_background": "light"
     },
     "output_type": "display_data"
    }
   ],
   "source": [
    "%matplotlib inline\n",
    "\n",
    "import numpy as np\n",
    "from matplotlib import pyplot as plt\n",
    "\n",
    "num_of_points = 8\n",
    "\n",
    "points = np.random.rand(num_of_points, 2)\n",
    "points = points[points[:,0].argsort()] # sorting the points by the x coordinate will make it easier to divide the points into subproblems\n",
    "\n",
    "plt.plot(points[:,0], points[:,1], 'go')\n",
    "plt.show()"
   ]
  },
  {
   "cell_type": "markdown",
   "metadata": {},
   "source": [
    "Next, we will need to decide on a way to divide the points up into increasingly smaller groups, such that the smallest group contains points, and then merge those groups. Essentially this will employ a recursive algorithm, or one that continues to call itself until some base case is satisfied and then apply a clever solution to keep the shape concave. "
   ]
  },
  {
   "cell_type": "code",
   "execution_count": 25,
   "metadata": {},
   "outputs": [
    {
     "ename": "TypeError",
     "evalue": "'NoneType' object is not subscriptable",
     "output_type": "error",
     "traceback": [
      "\u001b[0;31m---------------------------------------------------------------------------\u001b[0m",
      "\u001b[0;31mTypeError\u001b[0m                                 Traceback (most recent call last)",
      "\u001b[0;32m<ipython-input-25-fb1a54abb828>\u001b[0m in \u001b[0;36m<module>\u001b[0;34m()\u001b[0m\n\u001b[1;32m     68\u001b[0m     \u001b[0mhull\u001b[0m \u001b[0;34m=\u001b[0m \u001b[0msplit_points\u001b[0m\u001b[0;34m(\u001b[0m\u001b[0mlen\u001b[0m\u001b[0;34m(\u001b[0m\u001b[0mhull_points\u001b[0m\u001b[0;34m)\u001b[0m\u001b[0;34m,\u001b[0m \u001b[0mhull_points\u001b[0m\u001b[0;34m)\u001b[0m\u001b[0;34m\u001b[0m\u001b[0m\n\u001b[1;32m     69\u001b[0m \u001b[0;34m\u001b[0m\u001b[0m\n\u001b[0;32m---> 70\u001b[0;31m \u001b[0mquick_hull\u001b[0m\u001b[0;34m(\u001b[0m\u001b[0mpoints\u001b[0m\u001b[0;34m)\u001b[0m\u001b[0;34m\u001b[0m\u001b[0m\n\u001b[0m",
      "\u001b[0;32m<ipython-input-25-fb1a54abb828>\u001b[0m in \u001b[0;36mquick_hull\u001b[0;34m(hull_points)\u001b[0m\n\u001b[1;32m     66\u001b[0m \u001b[0;32mdef\u001b[0m \u001b[0mquick_hull\u001b[0m\u001b[0;34m(\u001b[0m\u001b[0mhull_points\u001b[0m\u001b[0;34m)\u001b[0m\u001b[0;34m:\u001b[0m\u001b[0;34m\u001b[0m\u001b[0m\n\u001b[1;32m     67\u001b[0m     \u001b[0;34m\"\"\"Main function for quick hull, returns convex hull for hull_points\"\"\"\u001b[0m\u001b[0;34m\u001b[0m\u001b[0m\n\u001b[0;32m---> 68\u001b[0;31m     \u001b[0mhull\u001b[0m \u001b[0;34m=\u001b[0m \u001b[0msplit_points\u001b[0m\u001b[0;34m(\u001b[0m\u001b[0mlen\u001b[0m\u001b[0;34m(\u001b[0m\u001b[0mhull_points\u001b[0m\u001b[0;34m)\u001b[0m\u001b[0;34m,\u001b[0m \u001b[0mhull_points\u001b[0m\u001b[0;34m)\u001b[0m\u001b[0;34m\u001b[0m\u001b[0m\n\u001b[0m\u001b[1;32m     69\u001b[0m \u001b[0;34m\u001b[0m\u001b[0m\n\u001b[1;32m     70\u001b[0m \u001b[0mquick_hull\u001b[0m\u001b[0;34m(\u001b[0m\u001b[0mpoints\u001b[0m\u001b[0;34m)\u001b[0m\u001b[0;34m\u001b[0m\u001b[0m\n",
      "\u001b[0;32m<ipython-input-25-fb1a54abb828>\u001b[0m in \u001b[0;36msplit_points\u001b[0;34m(n_points, points)\u001b[0m\n\u001b[1;32m     58\u001b[0m         \u001b[0mleft\u001b[0m \u001b[0;34m=\u001b[0m \u001b[0msplit_points\u001b[0m\u001b[0;34m(\u001b[0m\u001b[0mlen\u001b[0m\u001b[0;34m(\u001b[0m\u001b[0mpoints\u001b[0m\u001b[0;34m[\u001b[0m\u001b[0;36m0\u001b[0m\u001b[0;34m:\u001b[0m\u001b[0mint\u001b[0m\u001b[0;34m(\u001b[0m\u001b[0mn_points\u001b[0m\u001b[0;34m/\u001b[0m\u001b[0;36m2\u001b[0m\u001b[0;34m)\u001b[0m\u001b[0;34m]\u001b[0m\u001b[0;34m)\u001b[0m\u001b[0;34m,\u001b[0m \u001b[0mpoints\u001b[0m\u001b[0;34m[\u001b[0m\u001b[0;36m0\u001b[0m\u001b[0;34m:\u001b[0m\u001b[0mint\u001b[0m\u001b[0;34m(\u001b[0m\u001b[0mn_points\u001b[0m\u001b[0;34m/\u001b[0m\u001b[0;36m2\u001b[0m\u001b[0;34m)\u001b[0m\u001b[0;34m]\u001b[0m\u001b[0;34m)\u001b[0m\u001b[0;34m\u001b[0m\u001b[0m\n\u001b[1;32m     59\u001b[0m         \u001b[0mright\u001b[0m \u001b[0;34m=\u001b[0m \u001b[0msplit_points\u001b[0m\u001b[0;34m(\u001b[0m\u001b[0mlen\u001b[0m\u001b[0;34m(\u001b[0m\u001b[0mpoints\u001b[0m\u001b[0;34m[\u001b[0m\u001b[0mint\u001b[0m\u001b[0;34m(\u001b[0m\u001b[0mn_points\u001b[0m\u001b[0;34m/\u001b[0m\u001b[0;36m2\u001b[0m\u001b[0;34m)\u001b[0m\u001b[0;34m:\u001b[0m\u001b[0;34m]\u001b[0m\u001b[0;34m)\u001b[0m\u001b[0;34m,\u001b[0m \u001b[0mpoints\u001b[0m\u001b[0;34m[\u001b[0m\u001b[0mint\u001b[0m\u001b[0;34m(\u001b[0m\u001b[0mn_points\u001b[0m\u001b[0;34m/\u001b[0m\u001b[0;36m2\u001b[0m\u001b[0;34m)\u001b[0m\u001b[0;34m:\u001b[0m\u001b[0;34m]\u001b[0m\u001b[0;34m)\u001b[0m\u001b[0;34m\u001b[0m\u001b[0m\n\u001b[0;32m---> 60\u001b[0;31m         \u001b[0mcenter\u001b[0m \u001b[0;34m=\u001b[0m \u001b[0mfind_center\u001b[0m\u001b[0;34m(\u001b[0m\u001b[0mleft\u001b[0m\u001b[0;34m,\u001b[0m \u001b[0mright\u001b[0m\u001b[0;34m)\u001b[0m\u001b[0;34m\u001b[0m\u001b[0m\n\u001b[0m\u001b[1;32m     61\u001b[0m \u001b[0;34m\u001b[0m\u001b[0m\n\u001b[1;32m     62\u001b[0m         \u001b[0;32mreturn\u001b[0m \u001b[0mmerge_hulls\u001b[0m\u001b[0;34m(\u001b[0m\u001b[0mleft\u001b[0m\u001b[0;34m,\u001b[0m \u001b[0mright\u001b[0m\u001b[0;34m,\u001b[0m \u001b[0mcenter\u001b[0m\u001b[0;34m)\u001b[0m\u001b[0;34m\u001b[0m\u001b[0m\n",
      "\u001b[0;32m<ipython-input-25-fb1a54abb828>\u001b[0m in \u001b[0;36mfind_center\u001b[0;34m(left_points, right_points)\u001b[0m\n\u001b[1;32m     46\u001b[0m \u001b[0;32mdef\u001b[0m \u001b[0mfind_center\u001b[0m\u001b[0;34m(\u001b[0m\u001b[0mleft_points\u001b[0m\u001b[0;34m,\u001b[0m \u001b[0mright_points\u001b[0m\u001b[0;34m)\u001b[0m\u001b[0;34m:\u001b[0m\u001b[0;34m\u001b[0m\u001b[0m\n\u001b[1;32m     47\u001b[0m     \u001b[0;34m\"\"\"Returns the center x-value (average) between left_points and right_points\"\"\"\u001b[0m\u001b[0;34m\u001b[0m\u001b[0m\n\u001b[0;32m---> 48\u001b[0;31m     \u001b[0mrightmost_left\u001b[0m \u001b[0;34m=\u001b[0m \u001b[0mmax\u001b[0m\u001b[0;34m(\u001b[0m\u001b[0mleft_points\u001b[0m\u001b[0;34m[\u001b[0m\u001b[0;34m:\u001b[0m\u001b[0;34m,\u001b[0m\u001b[0;36m0\u001b[0m\u001b[0;34m]\u001b[0m\u001b[0;34m)\u001b[0m\u001b[0;34m\u001b[0m\u001b[0m\n\u001b[0m\u001b[1;32m     49\u001b[0m     \u001b[0mleftmost_right\u001b[0m \u001b[0;34m=\u001b[0m \u001b[0mmin\u001b[0m\u001b[0;34m(\u001b[0m\u001b[0mright_points\u001b[0m\u001b[0;34m[\u001b[0m\u001b[0;34m:\u001b[0m\u001b[0;34m,\u001b[0m\u001b[0;36m0\u001b[0m\u001b[0;34m]\u001b[0m\u001b[0;34m)\u001b[0m\u001b[0;34m\u001b[0m\u001b[0m\n\u001b[1;32m     50\u001b[0m \u001b[0;34m\u001b[0m\u001b[0m\n",
      "\u001b[0;31mTypeError\u001b[0m: 'NoneType' object is not subscriptable"
     ]
    },
    {
     "data": {
      "image/png": "[encoded data removed]",
      "text/plain": [
       "<Figure size 432x288 with 1 Axes>"
      ]
     },
     "metadata": {
      "needs_background": "light"
     },
     "output_type": "display_data"
    }
   ],
   "source": [
    "def find_y_int(left_point, right_point, center_line):\n",
    "    \"\"\"Finds the equation of a line defined by left_point and right_point and returns the y intercept at x=center_line\"\"\"\n",
    "    m = (left_point[1] - right_point[1])/(left_point[0] - right_point[0])\n",
    "    b = left_point[1] - m*left_point[0]\n",
    "    y = m*center_line + b\n",
    "    return y\n",
    "\n",
    "def tick_counter_clockwise(hull, origin):\n",
    "    \"\"\"Returns the next point on hull counter clockwise from origin\"\"\"\n",
    "    cclockwise = []\n",
    "    pass\n",
    "\n",
    "def tick_clockwise(hull, origin):\n",
    "    \"\"\"Returns the next point on hull clockwise from origin\"\"\"\n",
    "    q1 = []\n",
    "    q2 = []\n",
    "    q3 = []\n",
    "    q4 = []\n",
    "    clockwise = []\n",
    "    \n",
    "    mid_x = (min(hull[:,0]) + max(hull[:,0]))/2\n",
    "    mid_y = (min(hull[:,1]) + max(hull[:,1]))/2\n",
    "    for i in range(len(hull)):\n",
    "        if hull[i][0] >= mid_x:\n",
    "            if hull[i][1] >= mid_y:\n",
    "                q1.append(hull[i])\n",
    "            elif hull[i][1] < mid_y:\n",
    "                q4.append(hull[i])\n",
    "        elif hull[i][0] < mid_x:\n",
    "            if hull[i][1] >= mid_y:\n",
    "                q2.append(hull[i])\n",
    "            elif hull[i][1] < mid_y:\n",
    "                q3.append(hull[i])\n",
    "\n",
    "    pass\n",
    "\n",
    "def merge_hulls(left_hull, right_hull, center_line):\n",
    "    \"\"\"Merges left_hull and right_hull and returns the combined hull\"\"\"\n",
    "#     print (\"\"\"Merge_points called with\n",
    "#     left_hull:\n",
    "#     {0}\n",
    "#     right_hull:\n",
    "#     {1}\n",
    "#     center_line:\n",
    "#     {2}\\n\"\"\".format(left_hull, right_hull, center_line))\n",
    "    \n",
    "    yint = find_y_int(left_hull[-1], right_hull[0], center_line)\n",
    "    \n",
    "    \n",
    "    plt.plot(points[:,0], points[:,1], 'go')\n",
    "    for p in list(range(len(left_hull)-1)):\n",
    "        x, y = [left_hull[p,0], left_hull[p+1,0]], [left_hull[p,1], left_hull[p+1,1]]\n",
    "        plt.plot(x, y, '-')\n",
    "    x, y = [left_hull[-1,0], left_hull[0,0]], [left_hull[-1,1], left_hull[0,1]]\n",
    "    plt.plot(x, y, '-')\n",
    "\n",
    "    for p in list(range(len(right_hull)-1)):\n",
    "        x, y = [right_hull[p,0], right_hull[p+1,0]], [right_hull[p,1], right_hull[p+1,1]]\n",
    "        plt.plot(x, y, '-')\n",
    "    x, y = [right_hull[-1,0], right_hull[0,0]], [right_hull[-1,1], right_hull[0,1]]\n",
    "    plt.plot(x, y, '-')\n",
    "\n",
    "    return \n",
    "\n",
    "def find_center(left_points, right_points):\n",
    "    \"\"\"Returns the center x-value (average) between left_points and right_points\"\"\"\n",
    "    rightmost_left = max(left_points[:,0])\n",
    "    leftmost_right = min(right_points[:,0])\n",
    "    \n",
    "    center = (rightmost_left + leftmost_right)/2\n",
    "    return center\n",
    "\n",
    "def split_points(n_points, points):\n",
    "    \"\"\"Recursively divides points into smaller groups and then solves the atomic groups up to return a convex hull\"\"\"\n",
    "#     print (\"Split_points called with n_points:{0}, point_arr:\\n{1}\\n\".format(n_points, points))\n",
    "    if n_points > 2:\n",
    "        left = split_points(len(points[0:int(n_points/2)]), points[0:int(n_points/2)])\n",
    "        right = split_points(len(points[int(n_points/2):]), points[int(n_points/2):])\n",
    "        center = find_center(left, right)\n",
    "\n",
    "        return merge_hulls(left, right, center)\n",
    "    else:\n",
    "        return points\n",
    "    \n",
    "def quick_hull(hull_points):\n",
    "    \"\"\"Main function for quick hull, returns convex hull for hull_points\"\"\"\n",
    "    hull = split_points(len(hull_points), hull_points)\n",
    "\n",
    "quick_hull(points)"
   ]
  },
  {
   "cell_type": "markdown",
   "metadata": {},
   "source": []
  },
  {
   "cell_type": "code",
   "execution_count": null,
   "metadata": {},
   "outputs": [],
   "source": []
  },
  {
   "cell_type": "markdown",
   "metadata": {},
   "source": [
    "---\n",
    "### Finding a Convex Hull (using spatial package from scipy)\n",
    "This coding example can be found in the spatial documentation on scipy's website: https://docs.scipy.org/doc/scipy/reference/generated/scipy.spatial.ConvexHull.html"
   ]
  },
  {
   "cell_type": "markdown",
   "metadata": {},
   "source": [
    "load the modules"
   ]
  },
  {
   "cell_type": "code",
   "execution_count": 5,
   "metadata": {},
   "outputs": [],
   "source": [
    "from scipy.spatial import ConvexHull"
   ]
  },
  {
   "cell_type": "markdown",
   "metadata": {},
   "source": [
    "Here you can specify how many points should be generated."
   ]
  },
  {
   "cell_type": "code",
   "execution_count": 6,
   "metadata": {},
   "outputs": [],
   "source": [
    "plane_points = 25"
   ]
  },
  {
   "cell_type": "markdown",
   "metadata": {},
   "source": [
    "This next cell will solve the hull, plot the points, and plot the hull. It also uses IPython magic statement `%%time` which will time the entire cell. "
   ]
  },
  {
   "cell_type": "code",
   "execution_count": 7,
   "metadata": {},
   "outputs": [
    {
     "name": "stdout",
     "output_type": "stream",
     "text": [
      "CPU times: user 87 ms, sys: 173 µs, total: 87.1 ms\n",
      "Wall time: 83.3 ms\n"
     ]
    },
    {
     "data": {
      "image/png": "[encoded data removed]",
      "text/plain": [
       "<Figure size 432x288 with 1 Axes>"
      ]
     },
     "metadata": {
      "needs_background": "light"
     },
     "output_type": "display_data"
    }
   ],
   "source": [
    "%%time\n",
    "\n",
    "points = np.random.rand(plane_points, 2)   # generate random points in 2-D \n",
    "hull = ConvexHull(points)\n",
    "\n",
    "plt.plot(points[:,0], points[:,1], 'go') # the g in go indicates green and the o means dots\n",
    "for simplex in hull.simplices:\n",
    "    plt.plot(points[simplex, 0], points[simplex, 1], 'k-') # k- means a black line\n"
   ]
  },
  {
   "cell_type": "markdown",
   "metadata": {},
   "source": [
    "## Conclusion of Page 1\n",
    "This has been a short explanation of what a Jupyter Notebook is, and what a page from one looks like. "
   ]
  }
 ],
 "metadata": {
  "kernelspec": {
   "display_name": "Python 3",
   "language": "python",
   "name": "python3"
  },
  "language_info": {
   "codemirror_mode": {
    "name": "ipython",
    "version": 3
   },
   "file_extension": ".py",
   "mimetype": "text/x-python",
   "name": "python",
   "nbconvert_exporter": "python",
   "pygments_lexer": "ipython3",
   "version": "3.7.0"
  }
 },
 "nbformat": 4,
 "nbformat_minor": 2
}
