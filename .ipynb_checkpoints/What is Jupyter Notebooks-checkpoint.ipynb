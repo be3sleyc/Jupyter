{
 "cells": [
  {
   "cell_type": "markdown",
   "metadata": {},
   "source": [
    "# Jupyter Notebooks\n",
    "The purpose of this page is to explain where jupyter notebooks came from and what it is, as well as to provide a couple of code examples."
   ]
  },
  {
   "cell_type": "markdown",
   "metadata": {},
   "source": [
    "## Jupyter Notebook is the continuation of IPython Notebook\n",
    "Jupyter Notebook is the continuation of the IPython Notebook project. IPython  was originally created in 2001 by Fernando Perez. It was designed to be a better coding environment than the default interpreter that is provided with python. The default interpreter allows users to enter in code and test ideas without the need to create test files or scripts. The IPython environment adds additional features including: an enhanced python shell, a many clients to one kernel relatioship, and support for parallel computing."
   ]
  },
  {
   "cell_type": "markdown",
   "metadata": {},
   "source": [
    "## Jupyter Helps Data Scientists\n",
    "text"
   ]
  },
  {
   "cell_type": "markdown",
   "metadata": {},
   "source": [
    "## Code Examples\n",
    "\n",
    "### Variable and Print output"
   ]
  },
  {
   "cell_type": "code",
   "execution_count": 11,
   "metadata": {},
   "outputs": [],
   "source": [
    "name = \"Guido\""
   ]
  },
  {
   "cell_type": "markdown",
   "metadata": {},
   "source": [
    "Feel free to change the name..."
   ]
  },
  {
   "cell_type": "code",
   "execution_count": 15,
   "metadata": {},
   "outputs": [
    {
     "name": "stdout",
     "output_type": "stream",
     "text": [
      "Hello, World!\n",
      "My Name is Guido\n"
     ]
    }
   ],
   "source": [
    "print(\"Hello, World!\\nMy Name is\", name)"
   ]
  },
  {
   "cell_type": "markdown",
   "metadata": {},
   "source": [
    "Notice the `In [ ]:` located next to the code cells. The characters contained with in the square brackets will indicate the run state of the cell. A `*` indicates the code is still running, and a number will indicate the order the cells where run in. Hovering over a code cell causes the run symbol to appear. By clicking this symbol, you can run the cell and a new number will appear indicating the run order. Try it out above!\n",
    "\n",
    "On to some more complex examples\n",
    "\n",
    "---\n",
    "### Finding a Convex Hull (Quick Hull method)\n",
    "\n",
    "The quick hull method uses a divide and conquer approach similar to the merge sort algorithm. This means it will divide the main problem into smaller and smaller subproblems. It will then solve the subproblems and combine or merge the solutions. Before we can begin, we will need to generate some random points on a 2D plane. We can do this with the numpy module and plot the points with pyplot from matplotlib."
   ]
  },
  {
   "cell_type": "code",
   "execution_count": 82,
   "metadata": {},
   "outputs": [
    {
     "name": "stdout",
     "output_type": "stream",
     "text": [
      "[0.62494823 0.27240189 0.66605626 0.51949501 0.16845127 0.38893631]\n"
     ]
    },
    {
     "data": {
      "text/plain": [
       "[<matplotlib.lines.Line2D at 0x7f6fd8cda898>]"
      ]
     },
     "execution_count": 82,
     "metadata": {},
     "output_type": "execute_result"
    },
    {
     "data": {
      "image/png": "[encoded data removed]",
      "text/plain": [
       "<Figure size 432x288 with 1 Axes>"
      ]
     },
     "metadata": {
      "needs_background": "light"
     },
     "output_type": "display_data"
    }
   ],
   "source": [
    "import numpy as np\n",
    "from matplotlib import pyplot as plt\n",
    "\n",
    "num_of_points = 6\n",
    "\n",
    "x = np.random.rand(num_of_points)\n",
    "y = np.random.rand(num_of_points) \n",
    "points = [x,y]\n",
    "#points.sort(axis=0) # sorting the points by the x coordinate will make it easier to divide the x sy\n",
    "plt.plot(x, y, 'go')"
   ]
  },
  {
   "cell_type": "markdown",
   "metadata": {},
   "source": [
    "Next, we will need to decide on a way to divide the points up into increasingly smaller groups, such that the smallest group contains 3 points. Essentially this will employ a recursive algorithm, or one that continues to call itself until some base case is satisfied. "
   ]
  },
  {
   "cell_type": "code",
   "execution_count": null,
   "metadata": {},
   "outputs": [],
   "source": []
  },
  {
   "cell_type": "markdown",
   "metadata": {},
   "source": []
  },
  {
   "cell_type": "code",
   "execution_count": null,
   "metadata": {},
   "outputs": [],
   "source": []
  },
  {
   "cell_type": "markdown",
   "metadata": {},
   "source": [
    "---\n",
    "### Finding a Convex Hull (using spatial package from scipy)\n",
    "This coding example can be found in the spatial documentation on scipy's website: https://docs.scipy.org/doc/scipy/reference/generated/scipy.spatial.ConvexHull.html"
   ]
  },
  {
   "cell_type": "markdown",
   "metadata": {},
   "source": [
    "load the modules"
   ]
  },
  {
   "cell_type": "code",
   "execution_count": 3,
   "metadata": {},
   "outputs": [],
   "source": [
    "from scipy.spatial import ConvexHull"
   ]
  },
  {
   "cell_type": "markdown",
   "metadata": {},
   "source": [
    "Here you can specify how many points should be generated."
   ]
  },
  {
   "cell_type": "code",
   "execution_count": 37,
   "metadata": {},
   "outputs": [],
   "source": [
    "num_of_points = 25"
   ]
  },
  {
   "cell_type": "markdown",
   "metadata": {},
   "source": [
    "The following code will track the time the entire cell takes, solve the hull, and plot the points and hull in to output."
   ]
  },
  {
   "cell_type": "code",
   "execution_count": 38,
   "metadata": {},
   "outputs": [
    {
     "name": "stdout",
     "output_type": "stream",
     "text": [
      "CPU times: user 52.8 ms, sys: 4.02 ms, total: 56.8 ms\n",
      "Wall time: 60 ms\n"
     ]
    },
    {
     "data": {
      "image/png": "[encoded data removed]",
      "text/plain": [
       "<Figure size 432x288 with 1 Axes>"
      ]
     },
     "metadata": {
      "needs_background": "light"
     },
     "output_type": "display_data"
    }
   ],
   "source": [
    "%%time\n",
    "\n",
    "points = np.random.rand(num_of_points, 2)   # generate random points in 2-D \n",
    "hull = ConvexHull(points)\n",
    "\n",
    "plt.plot(points[:,0], points[:,1], 'go') # go means green dots\n",
    "for simplex in hull.simplices:\n",
    "    plt.plot(points[simplex, 0], points[simplex, 1], 'k-') # k- means a black line\n"
   ]
  },
  {
   "cell_type": "markdown",
   "metadata": {},
   "source": [
    "## Conclusion of Page 1\n",
    "This has been a short explanation of what a Jupyter Notebook is, and what a page from one looks like. "
   ]
  }
 ],
 "metadata": {
  "kernelspec": {
   "display_name": "Python 3",
   "language": "python",
   "name": "python3"
  },
  "language_info": {
   "codemirror_mode": {
    "name": "ipython",
    "version": 3
   },
   "file_extension": ".py",
   "mimetype": "text/x-python",
   "name": "python",
   "nbconvert_exporter": "python",
   "pygments_lexer": "ipython3",
   "version": "3.7.0"
  }
 },
 "nbformat": 4,
 "nbformat_minor": 2
}
