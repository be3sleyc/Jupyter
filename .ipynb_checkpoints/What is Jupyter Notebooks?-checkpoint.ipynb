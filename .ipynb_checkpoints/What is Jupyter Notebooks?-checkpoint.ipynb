{
 "cells": [
  {
   "cell_type": "markdown",
   "metadata": {},
   "source": [
    "# Jupyter Notebooks\n",
    "The purpose of this page is to explain where jupyter notebooks came from and what it is, as well as to provide a couple of code examples.\n",
    "\n",
    "## Jupyter Notebook is IPython Notebook\n",
    "Jupyter Notebook is the continuation of the IPython Notebook project. IPython  was originally created in 2001 by ____ and \\___\\_. It was designed to be a better coding environment than the defualt interpreter that ships with python. The default interpreter allows users to enter in code and test ideas with out the need to create test files or scripts. The IPython environment adds additional features including: an enhanced python shell, many clients to one kernel relatioship, and support for parallel computing. for the user to create a document that features a combination of plain text, markdown text, _\"live\"_ code and code output. This text box is an example of markdown text.\n",
    "\n",
    "## Jupyter Helps Data Scientists\n",
    "\n",
    "## Code Examples\n"
   ]
  },
  {
   "cell_type": "code",
   "execution_count": 1,
   "metadata": {},
   "outputs": [
    {
     "name": "stdout",
     "output_type": "stream",
     "text": [
      "hello, world!\n"
     ]
    }
   ],
   "source": [
    "print(\"hello, world!\")"
   ]
  },
  {
   "cell_type": "code",
   "execution_count": null,
   "metadata": {},
   "outputs": [],
   "source": []
  }
 ],
 "metadata": {
  "kernelspec": {
   "display_name": "Python 3",
   "language": "python",
   "name": "python3"
  },
  "language_info": {
   "codemirror_mode": {
    "name": "ipython",
    "version": 3
   },
   "file_extension": ".py",
   "mimetype": "text/x-python",
   "name": "python",
   "nbconvert_exporter": "python",
   "pygments_lexer": "ipython3",
   "version": "3.7.0"
  }
 },
 "nbformat": 4,
 "nbformat_minor": 2
}
