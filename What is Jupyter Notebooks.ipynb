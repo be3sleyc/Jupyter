{
 "cells": [
  {
   "cell_type": "markdown",
   "metadata": {
    "slideshow": {
     "slide_type": "-"
    }
   },
   "source": [
    "# Jupyter Notebooks\n",
    "The purpose of this page is to explain where jupyter notebooks came from and what it is, as well as to provide a couple of code examples."
   ]
  },
  {
   "cell_type": "markdown",
   "metadata": {
    "slideshow": {
     "slide_type": "-"
    }
   },
   "source": [
    "## Jupyter Notebook is the continuation of IPython Notebook\n",
    "Jupyter Notebook is the continuation of the IPython Notebook project. IPython  was originally created in 2001 by Fernando Perez. It was designed to be a better coding environment than the default interpreter that is provided with python. The default interpreter allows users to enter in code and test ideas without the need to create test files or scripts. The IPython environment adds additional features including: an enhanced python shell, a many clients to one kernel relatioship, and support for parallel computing. Jupyter was created by Fernando in 2014 as a spin-off project of IPython. Essentially, IPython is maintained for its python shell, which is used in Jupyter, and the other languages that got their start in IPython moved to Jupyter. the name for jupyter notebooks was created to refer to three of the supported languages: JUlia, PYthon, and R."
   ]
  },
  {
   "cell_type": "markdown",
   "metadata": {},
   "source": [
    "## Jupyter Helps Data Scientists\n",
    "Jupyter was designed for sharing and collaborating ideas. A notebook is meant to be viewed interactively, and this can be done in a number of ways. If the created has access to a server that runs the jupyter software, they can host their notebook there where it can be access via a web url, like a website. Docker, or other container software images can be shared with users so that they can view a dynamic personal copy of the notebook. Notebooks can also be view statically on github or through nbviewer. The my binder project displays notebooks in statically by creating docker images of github repositories. \n",
    "\n",
    "Notebook pages are made up of cells, which be one of three types: raw data, markdown, and code. When you are viewing a notebook, the last active cell will have a border around it that will either be blue or green. The color indicates whether the cell is in command mode (blue) or edit mode (green). The command and edit modes are similar to software like the vi or vim text editor, where the keyboard will behave differently depending the mode. \n",
    "\n",
    "More about the Jupyter notebooks UI can be learned from http://nbviewer.jupyter.org/github/jupyter/notebook/blob/master/docs/source/examples/Notebook/Notebook%20Basics.ipynb#Modal-editor"
   ]
  },
  {
   "cell_type": "markdown",
   "metadata": {},
   "source": [
    "## Code Examples\n",
    "\n",
    "### Variable and Print output\n",
    "\n",
    "Here is a simple example of python code using variable and the print funtion"
   ]
  },
  {
   "cell_type": "code",
   "execution_count": 22,
   "metadata": {},
   "outputs": [],
   "source": [
    "name = \"Guido\" # Python was created by Guido van Rossum in 1991"
   ]
  },
  {
   "cell_type": "markdown",
   "metadata": {},
   "source": [
    "Feel free to change the name..."
   ]
  },
  {
   "cell_type": "code",
   "execution_count": 23,
   "metadata": {},
   "outputs": [
    {
     "name": "stdout",
     "output_type": "stream",
     "text": [
      "Hello, World!\n",
      "My Name is Guido\n"
     ]
    }
   ],
   "source": [
    "print(\"Hello, World!\\nMy Name is\", name)"
   ]
  },
  {
   "cell_type": "markdown",
   "metadata": {},
   "source": [
    "Notice the `In [ ]:` located next to the code cells. The characters contained within the square brackets will indicate the run state of the cell. A `*` indicates the code is still running, and a number will indicate the order the cells where run in. Hovering over a code cell causes the run symbol to appear. By clicking this symbol, you can run the cell and a new number will appear indicating the run order. Try it out above!\n",
    "\n",
    "On to some more complex examples\n",
    "\n",
    "---\n",
    "### Finding a Convex Hull (Quick Hull method)\n",
    "\n",
    "A convex hull is the minimum convex enclosure of a set of points. It is a common problem in comutational geometry is used in several disciplines including:\n",
    " * pattern recognition\n",
    " * image processing\n",
    " * game theory\n",
    "\n",
    "A common visualization technique is to think of stretching a rubber band around a group of nails or thumb tacks.\n",
    "![alt text]( ./thumbtacks_sm.png \"Convex Hull Thumbtack example\")\n",
    "\n",
    "The quick hull method uses a divide and conquer approach similar to the merge sort algorithm. This means it will divide the main problem into smaller and smaller subproblems. It will then solve the subproblems and combine or merge the solutions. \n",
    "\n",
    "Before we can begin, we will need to generate some random points on a 2D plane. We can do this with the numpy module and plot the points with pyplot from matplotlib."
   ]
  },
  {
   "cell_type": "code",
   "execution_count": 24,
   "metadata": {},
   "outputs": [
    {
     "data": {
      "image/png": "[encoded data removed]",
      "text/plain": [
       "<Figure size 432x288 with 1 Axes>"
      ]
     },
     "metadata": {
      "needs_background": "light"
     },
     "output_type": "display_data"
    }
   ],
   "source": [
    "%matplotlib inline\n",
    "\n",
    "# it is vital these two modules are imported for a cell later on this page.\n",
    "import numpy as np\n",
    "from matplotlib import pyplot as plt \n",
    "\n",
    "num_of_points = 8\n",
    "\n",
    "points = np.random.rand(num_of_points, 2)\n",
    "points = points[points[:,0].argsort()] # sorting the points by the x coordinate will make it easier to divide the points into subproblems\n",
    "\n",
    "plt.plot(points[:,0], points[:,1], 'go')\n",
    "plt.show()"
   ]
  },
  {
   "cell_type": "markdown",
   "metadata": {},
   "source": [
    "Next, we will need to decide on a way to divide the points up into increasingly smaller groups, such that the smallest group contains points, and then merge those groups. Essentially this will employ a recursive algorithm, or one that continues to call itself until some base case is satisfied and then apply a clever solution to keep the shape concave. "
   ]
  },
  {
   "cell_type": "code",
   "execution_count": 25,
   "metadata": {},
   "outputs": [
    {
     "data": {
      "text/plain": [
       "[<matplotlib.lines.Line2D at 0x7f95e1afc5f8>]"
      ]
     },
     "execution_count": 25,
     "metadata": {},
     "output_type": "execute_result"
    },
    {
     "data": {
      "image/png": "[encoded data removed]",
      "text/plain": [
       "<Figure size 432x288 with 1 Axes>"
      ]
     },
     "metadata": {
      "needs_background": "light"
     },
     "output_type": "display_data"
    }
   ],
   "source": [
    "def find_y_int(left_point, right_point, center_line):\n",
    "    \"\"\"Finds the equation of a line defined by left_point and right_point and returns the y intercept at x=center_line\"\"\"\n",
    "    m = (left_point[1] - right_point[1])/(left_point[0] - right_point[0])\n",
    "    b = left_point[1] - m*left_point[0]\n",
    "    y = m*center_line + b\n",
    "    return y\n",
    "\n",
    "def tick_counter_clockwise(hull, origin):\n",
    "    \"\"\"Returns the next point on hull counter clockwise from origin\"\"\"\n",
    "    q1 = []\n",
    "    q2 = []\n",
    "    q3 = []\n",
    "    q4 = []\n",
    "    cclockwise = []\n",
    "    \n",
    "    mid_x = (min(hull[:,0]) + max(hull[:,0]))/2\n",
    "    mid_y = (min(hull[:,1]) + max(hull[:,1]))/2\n",
    "    for i in range(len(hull)):\n",
    "        if hull[i,0] >= mid_x:\n",
    "            if hull[i,1] >= mid_y:\n",
    "                q1.append(hull[i])\n",
    "            elif hull[i,1] < mid_y:\n",
    "                q4.append(hull[i])\n",
    "        elif hull[i,0] < mid_x:\n",
    "            if hull[i,1] >= mid_y:\n",
    "                q2.append(hull[i])\n",
    "            elif hull[i,1] < mid_y:\n",
    "                q3.append(hull[i])\n",
    "    \n",
    "#     cclockwise = q4[::-1] + q3[::-1] + q2 + q1\n",
    "    cclockwise = q2[::-1] + q3 + q4 + q1[::-1]\n",
    "#     tick_pos = cclockwise.index(origin)-1 \n",
    "    \n",
    "#     return tick_pos\n",
    "    return np.asarray(cclockwise)\n",
    "\n",
    "def tick_clockwise(hull, origin):\n",
    "    \"\"\"Returns the next point on hull clockwise from origin\"\"\"\n",
    "    q1 = []\n",
    "    q2 = []\n",
    "    q3 = []\n",
    "    q4 = []\n",
    "    clockwise = []\n",
    "    \n",
    "    mid_x = (min(hull[:,0]) + max(hull[:,0]))/2\n",
    "    mid_y = (min(hull[:,1]) + max(hull[:,1]))/2\n",
    "    for i in range(len(hull)):\n",
    "        if hull[i,0] >= mid_x:\n",
    "            if hull[i,1] >= mid_y:\n",
    "                q1.append(hull[i])\n",
    "            elif hull[i,1] < mid_y:\n",
    "                q4.append(hull[i])\n",
    "        elif hull[i,0] < mid_x:\n",
    "            if hull[i,1] >= mid_y:\n",
    "                q2.append(hull[i])\n",
    "            elif hull[i,1] < mid_y:\n",
    "                q3.append(hull[i])\n",
    "                \n",
    "#     clockwise = q1[::-1] + q2[::-1] + q3 + q4\n",
    "    clockwise = q1 + q4[::-1] + q3[::-1] + q2\n",
    "#     tick_pos = clockwise.index(origin)+1\n",
    "#     if tick_pos > len(clockwise):\n",
    "#         tick_pos = 0\n",
    "    \n",
    "#     return clockwise[tick_pos]\n",
    "    return np.asarray(clockwise)\n",
    "\n",
    "def merge_hulls(left_hull, right_hull, center_line):\n",
    "    \"\"\"Merges left_hull and right_hull and returns the combined hull\"\"\"\n",
    "    \n",
    "    yint = find_y_int(left_hull[-1], right_hull[0], center_line)\n",
    "    \n",
    "    # I could not find a proper solution in time so I've modified  both of the tick functions to \n",
    "    # return their calculate hulls and I stick the left half of the left hull with the right half of the right hull...\n",
    "    \n",
    "    left_hull = tick_counter_clockwise(left_hull, left_hull[-1])\n",
    "    \n",
    "    right_hull = tick_clockwise(right_hull, right_hull[0])\n",
    "    \n",
    "    return left_hull + right_hull\n",
    "\n",
    "def find_center(left_points, right_points):\n",
    "    \"\"\"Returns the center x-value (average) between left_points and right_points\"\"\"\n",
    "    rightmost_left = max(left_points[:,0])\n",
    "    leftmost_right = min(right_points[:,0])\n",
    "    \n",
    "    center = (rightmost_left + leftmost_right)/2\n",
    "    return center\n",
    "\n",
    "def split_points(n_points, points):\n",
    "    \"\"\"Recursively divides points into smaller groups and then solves the atomic groups up to return a convex hull\"\"\"\n",
    "#     print (\"Split_points called with n_points:{0}, point_arr:\\n{1}\\n\".format(n_points, points))\n",
    "    if n_points > 2:\n",
    "        left = split_points(len(points[0:int(n_points/2)]), points[0:int(n_points/2)])\n",
    "        right = split_points(len(points[int(n_points/2):]), points[int(n_points/2):])\n",
    "        center = find_center(left, right)\n",
    "\n",
    "        return merge_hulls(left, right, center)\n",
    "    else:\n",
    "        return points\n",
    "    \n",
    "def quick_hull(hull_points):\n",
    "    \"\"\"Main function for quick hull, returns convex hull for hull_points\"\"\"\n",
    "    return split_points(len(hull_points), hull_points)\n",
    "\n",
    "hull = quick_hull(points)\n",
    "\n",
    "plt.plot(points[:,0], points[:,1], 'go')\n",
    "for p in list(range(len(hull)-1)):\n",
    "    x, y = [hull[p,0], hull[p+1,0]], [hull[p,1], hull[p+1,1]]\n",
    "    plt.plot(x, y, '-')\n",
    "x, y = [hull[-1,0], hull[0,0]], [hull[-1,1], hull[0,1]]\n",
    "plt.plot(x, y, '-')"
   ]
  },
  {
   "cell_type": "markdown",
   "metadata": {},
   "source": [
    "## Well, that did not work\n",
    "\n",
    "Since I am unable to find a solution to the quick hull algorithm, lets try an easier approach. Where Quickhull generally solves a convex hull in $O(n\\ log\\ n)$ time (under the best circumstances), the gift wrapping algorithm can solve it in slightly worse $O(nh)$. (time complexity is shown in big O notation)\n",
    "\n",
    "Again, we will need to start with some points"
   ]
  },
  {
   "cell_type": "code",
   "execution_count": 26,
   "metadata": {},
   "outputs": [
    {
     "data": {
      "image/png": "[encoded data removed]",
      "text/plain": [
       "<Figure size 432x288 with 1 Axes>"
      ]
     },
     "metadata": {
      "needs_background": "light"
     },
     "output_type": "display_data"
    }
   ],
   "source": [
    "%matplotlib inline\n",
    "\n",
    "# it is vital these two modules are imported for a cell later on this page.\n",
    "import random\n",
    "\n",
    "def gen_points(number_points):\n",
    "    points = [[random.randint(-100, 100), random.randint(-100, 100)] for x in range(number_points)]\n",
    "    points = sorted(points, key=lambda x: [x[0], x[1]])\n",
    "    return points\n",
    "\n",
    "num_of_points = 25\n",
    "\n",
    "points = gen_points(num_of_points)\n",
    "for x in points:\n",
    "    plt.plot(x[0], x[1], 'go')\n",
    "plt.show()"
   ]
  },
  {
   "cell_type": "markdown",
   "metadata": {},
   "source": [
    "Next we will need to define a function that determines if point $P$ is on the left(counter-clockwise) or right (clockwise) side of line $\\overleftrightarrow{QR}$, which we can do with a cross product."
   ]
  },
  {
   "cell_type": "code",
   "execution_count": 27,
   "metadata": {},
   "outputs": [],
   "source": [
    "def sidedness(p, q, r):\n",
    "    return ((r[0] - q[0]) * (p[1]-q[1])) - ((p[0] - q[0]) * (r[1] - q[1]))\n",
    "\n",
    "assert sidedness ([1,1], [0,0], [2,2]) == 0 # colinear\n",
    "assert sidedness ([0,-2], [0,0], [1,3]) < 0  # right\n",
    "assert sidedness ([0,2], [0,0], [1,3]) > 0  # left\n",
    "assert sidedness ([-1,5], [0,0], [3,-4]) > 0 # left\n",
    "\n",
    "# we should not get any assertion exceptions"
   ]
  },
  {
   "cell_type": "markdown",
   "metadata": {},
   "source": [
    "Now we should have everything needed to write the gift wrap algorithm."
   ]
  },
  {
   "cell_type": "code",
   "execution_count": 28,
   "metadata": {},
   "outputs": [],
   "source": [
    "import math\n",
    "\n",
    "def jarvismarch(A):\n",
    "    %%time\n",
    "    start_point = A[0] # define a starting point \n",
    "    \n",
    "    hull = [start_point] # create structure to hold hull points\n",
    "    collinear = []\n",
    "\n",
    "    current_point = start_point\n",
    "    \n",
    "    while True:\n",
    "        \n",
    "        next_point = A[0] # grab a point\n",
    "        for x in range(1, len(A)):\n",
    "            if A[x] == current_point:\n",
    "                continue\n",
    "            value = sidedness(A[x], current_point,  next_point)\n",
    "            if (value < 0):\n",
    "                next_point = A[x]\n",
    "                collinear = []\n",
    "            elif (value == 0):\n",
    "                if abs(math.sqrt((A[x][0]-current_point[0])**2 + (A[x][1]-current_point[1])**2)) > abs(math.sqrt((next_point[0]-current_point[0])**2 + (next_point[1]-current_point[1])**2)):\n",
    "                    collinear.append(next_point)\n",
    "                    next_point = A[x]\n",
    "                else:\n",
    "                    collinear.append(A[x])\n",
    "        \n",
    "        for x in collinear:\n",
    "            hull.append(x)\n",
    "        \n",
    "        if next_point == start_point:\n",
    "            break\n",
    "            \n",
    "        hull.append(next_point)\n",
    "        current_point = next_point\n",
    "        \n",
    "    # scan for points on the right of starting point, current point\n",
    "    # if one is found, scan for points on the right of starting point and current point\n",
    "        \n",
    "    return hull\n"
   ]
  },
  {
   "cell_type": "markdown",
   "metadata": {},
   "source": [
    "Now that that is finished, lets display our result"
   ]
  },
  {
   "cell_type": "code",
   "execution_count": 29,
   "metadata": {},
   "outputs": [
    {
     "name": "stdout",
     "output_type": "stream",
     "text": [
      "CPU times: user 3 µs, sys: 1 µs, total: 4 µs\n",
      "Wall time: 6.68 µs\n"
     ]
    },
    {
     "data": {
      "image/png": "[encoded data removed]",
      "text/plain": [
       "<Figure size 432x288 with 1 Axes>"
      ]
     },
     "metadata": {
      "needs_background": "light"
     },
     "output_type": "display_data"
    }
   ],
   "source": [
    "hull = jarvismarch(points)\n",
    "\n",
    "for p in list(range(len(hull)-1)):\n",
    "    x, y = [hull[p][0], hull[p+1][0]], [hull[p][1], hull[p+1][1]]\n",
    "    plt.plot(x, y, '-')\n",
    "x, y = [hull[-1][0], hull[0][0]], [hull[-1][1], hull[0][1]]\n",
    "plt.plot(x, y, '-')\n",
    "\n",
    "for x in points:\n",
    "    plt.plot(x[0], x[1], 'go')\n",
    "plt.show()"
   ]
  },
  {
   "cell_type": "markdown",
   "metadata": {},
   "source": [
    "---\n",
    "### Finding a Convex Hull (using spatial package from scipy)\n",
    "This coding example can be found in the spatial documentation on scipy's website: https://docs.scipy.org/doc/scipy/reference/generated/scipy.spatial.ConvexHull.html"
   ]
  },
  {
   "cell_type": "markdown",
   "metadata": {},
   "source": [
    "First, load the modules"
   ]
  },
  {
   "cell_type": "code",
   "execution_count": 30,
   "metadata": {},
   "outputs": [],
   "source": [
    "from scipy.spatial import ConvexHull\n",
    "from ipywidgets import widgets\n",
    "from ipywidgets import interact"
   ]
  },
  {
   "cell_type": "code",
   "execution_count": 31,
   "metadata": {},
   "outputs": [],
   "source": [
    "plane_points = 25 # this will initialize our default point quantity"
   ]
  },
  {
   "cell_type": "markdown",
   "metadata": {},
   "source": [
    "This next cell will solve the hull, plot the points, and plot the hull. We will also use the IPython magic statement `%%time` which will time the find_hull funciton. I have also created a slider so the point quantity can be adjusted interactively. "
   ]
  },
  {
   "cell_type": "code",
   "execution_count": 32,
   "metadata": {},
   "outputs": [
    {
     "data": {
      "application/vnd.jupyter.widget-view+json": {
       "model_id": "dd5ed403e57f4b9c8e59c280e14b5239",
       "version_major": 2,
       "version_minor": 0
      },
      "text/plain": [
       "interactive(children=(IntSlider(value=25, continuous_update=False, description='plane_points', max=500, min=3)…"
      ]
     },
     "metadata": {},
     "output_type": "display_data"
    }
   ],
   "source": [
    "%matplotlib inline\n",
    "\n",
    "def find_hull(plane_points):\n",
    "    %%time\n",
    "    points = np.random.rand(plane_points, 2)   # generate random points in 2-D\n",
    "    \n",
    "    hull = ConvexHull(points)\n",
    "    plt.plot(points[:,0], points[:,1], 'go') # the g in go indicates green and the o means dots\n",
    "    for simplex in hull.simplices:\n",
    "        plt.plot(points[simplex, 0], points[simplex, 1], 'k-') # k- means a black line\n",
    "\n",
    "interact(find_hull, plane_points=widgets.IntSlider(min=3,max=500,step=1,value=plane_points, continuous_update=False));"
   ]
  },
  {
   "cell_type": "markdown",
   "metadata": {},
   "source": [
    "## Conclusion of Page 1\n",
    "This has been a short explanation of what a Jupyter Notebook is, and what a page from one looks like. "
   ]
  }
 ],
 "metadata": {
  "kernelspec": {
   "display_name": "Python 3",
   "language": "python",
   "name": "python3"
  },
  "language_info": {
   "codemirror_mode": {
    "name": "ipython",
    "version": 3
   },
   "file_extension": ".py",
   "mimetype": "text/x-python",
   "name": "python",
   "nbconvert_exporter": "python",
   "pygments_lexer": "ipython3",
   "version": "3.7.0"
  }
 },
 "nbformat": 4,
 "nbformat_minor": 2
}
